{
 "cells": [
  {
   "cell_type": "code",
   "execution_count": 1,
   "metadata": {
    "collapsed": true
   },
   "outputs": [],
   "source": [
    "# Python script to initialise trajectories on a neutral density surface, for use with Ariane\n",
    "# GM 23/9/16: Presently, this script places one particle per grid cell, suitable for many applications. It will need to be adapted if I wish to initialise particles at higher resolution."
   ]
  },
  {
   "cell_type": "code",
   "execution_count": 1,
   "metadata": {
    "collapsed": false
   },
   "outputs": [],
   "source": [
    "import numpy as np\n",
    "import numpy.matlib\n",
    "import scipy.io as io\n",
    "import matplotlib\n",
    "%matplotlib inline\n",
    "import matplotlib.pyplot as plt\n",
    "from netCDF4 import Dataset\n",
    "import os\n",
    "import time\n",
    "from find_isosurface import find_isosurface as iso"
   ]
  },
  {
   "cell_type": "code",
   "execution_count": 2,
   "metadata": {
    "collapsed": true
   },
   "outputs": [],
   "source": [
    "# TRAJECTORY INITIALISATION OPTIONS\n",
    "# Target density surface\n",
    "sigT = 27.8\n",
    "# Times of initialisation\n",
    "timearray = np.array([4504])"
   ]
  },
  {
   "cell_type": "code",
   "execution_count": 3,
   "metadata": {
    "collapsed": false
   },
   "outputs": [],
   "source": [
    "# ARIANE EXPERIMENT DIRECTORY\n",
    "arianedir = '/home/ocean2/graemem/ariane/experiments/metoffice/'\n",
    "experiment = 'quant_back_seedNAn1_t0018-mar-4504_sign27.8_ML'"
   ]
  },
  {
   "cell_type": "code",
   "execution_count": 31,
   "metadata": {
    "collapsed": false
   },
   "outputs": [],
   "source": [
    "# DATASET LOCATIONS\n",
    "# Specify the locations and filenames of the density and grid data\n",
    "rootdir = '/home/ocean2/graemem/ariane/'\n",
    "datadir = 'data_link/metoffice/'\n",
    "griddir = 'grids_ncmod/'\n",
    "gridfile = 'anudlo_1m_mesh_hgr.nc'\n",
    "config = 'anudlo_1m_'\n",
    "\n",
    "# LOAD GRID DATA\n",
    "grid = Dataset(rootdir+griddir+gridfile,'r')\n",
    "deptht = grid.variables['gdept_0']\n",
    "e1t = grid.variables['e1t']\n",
    "e2t = grid.variables['e2t']\n",
    "\n",
    "# SET ARRAY OF VERTICAL INDICES\n",
    "kv = np.arange(1,76)\n",
    "# SET ARRAY OF HORIZONTAL INDICES\n",
    "iv = np.arange(e1t.shape[1])\n",
    "jv = np.arange(e1t.shape[0])\n",
    "i,j=np.meshgrid(iv,jv)\n",
    "# SET ARRAYS FOR ARIANE VARIABLES\n",
    "init_x = np.empty(0)\n",
    "init_y = np.empty(0)\n",
    "init_z = np.empty(0)\n",
    "init_temp = np.empty(0)\n",
    "init_salt = np.empty(0)\n",
    "init_dens = np.empty(0)\n",
    "init_transp = np.empty(0)\n",
    "init_area = np.empty(0)\n",
    "\n",
    "# LOAD MASK\n",
    "# Experiment specific. This can be prepared in Matlab before.\n",
    "init_mask = io.loadmat(arianedir+experiment+'/matfiles/init_mask.mat')\n",
    "mask = np.transpose(np.array(init_mask['mask']))"
   ]
  },
  {
   "cell_type": "code",
   "execution_count": 32,
   "metadata": {
    "collapsed": false
   },
   "outputs": [
    {
     "name": "stdout",
     "output_type": "stream",
     "text": [
      "anudlo_1m_4504_gridRn.nc\n",
      "Load data\n",
      "Find density surface\n",
      "Put in Ariane format\n",
      "ntot = (93621,)\n"
     ]
    }
   ],
   "source": [
    "ntot=0 # Keep track of number of initialised particles\n",
    "# INITIALISE TIME LOOP\n",
    "for t in timearray:\n",
    "    # TIME DEPENDENT DATA FILES\n",
    "    datafileR = config+str(t)+'_gridRn.nc' # Density data\n",
    "    datafileT = config+str(t)+'_gridT.nc' # Temperature and salinity data\n",
    "    print datafileR\n",
    "\n",
    "    # LOAD DENSITY\n",
    "    print 'Load data'\n",
    "    dataR=Dataset(rootdir+datadir+datafileR,'r')\n",
    "    vosigntr=dataR.variables['vosigntr']\n",
    "    # Extract dimensions\n",
    "    (nz,ny,nx)=vosigntr.shape[1:4]\n",
    "\n",
    "    # LOAD TEMPERATURE AND SALINITY\n",
    "    dataT = Dataset(rootdir+datadir+datafileT,'r')\n",
    "    votemper=dataT.variables['votemper']\n",
    "    vosaline=dataT.variables['vosaline']\n",
    "\n",
    "    # FIND THE VERTICAL INDEX OF A TARGET DENSITY SURFACE AT EACH POINT IN SPACE\n",
    "    # In addition, vertically interpolate tracer values (temperature, salinity) onto this surface (required input for Ariane)\n",
    "    print 'Find density surface'    \n",
    "    k = iso(np.transpose(vosigntr[0,:,:,:],(1,2,0)),sigT,kv,interp_order=2)\n",
    "    \n",
    "    # APPLY MASK\n",
    "    # Multiply by loaded mask\n",
    "    k = k*mask\n",
    "    \n",
    "    # PUT INDICES INTO ARIANE FORMAT\n",
    "    print 'Put in Ariane format'\n",
    "    # Extract finite variables and append to existing ariane variables\n",
    "    x = i[~np.isnan(k)]-0.5\n",
    "    init_x = np.append(init_x,x)\n",
    "    \n",
    "    y = j[~np.isnan(k)]-0.5\n",
    "    init_y = np.append(init_y,y)\n",
    "    \n",
    "    z = k[~np.isnan(k)]+0.5\n",
    "    init_z = np.append(init_z,z)\n",
    "    \n",
    "    temp = np.empty(x.shape)\n",
    "    temp[:] = np.nan\n",
    "    init_temp = np.append(init_temp,temp)\n",
    "    \n",
    "    salt = np.empty(x.shape)\n",
    "    salt[:] = np.nan\n",
    "    init_salt = np.append(init_salt,salt)\n",
    "    \n",
    "    dens = np.empty(x.shape)\n",
    "    dens[:] = np.nan\n",
    "    init_dens = np.append(init_dens,dens)\n",
    "    \n",
    "    transp = np.empty(x.shape)\n",
    "    transp[:] = np.nan\n",
    "    init_transp = np.append(init_transp,transp)\n",
    "    \n",
    "    A = e1t[:,:]*e2t[:,:]\n",
    "    area = A[~np.isnan(k)]\n",
    "    init_area = np.append(init_area,area)\n",
    "    \n",
    "    print 'ntot = '+str(init_x.shape)\n",
    "\n",
    "ntot = init_x.shape[0]"
   ]
  },
  {
   "cell_type": "code",
   "execution_count": 33,
   "metadata": {
    "collapsed": false
   },
   "outputs": [
    {
     "name": "stdout",
     "output_type": "stream",
     "text": [
      "Save as netcdf\n"
     ]
    }
   ],
   "source": [
    "# SAVE AS A NETCDF FILE\n",
    "print 'Save as netcdf'\n",
    "ariane = Dataset(arianedir+experiment+'/ariane_initial.nc','w',format='NETCDF4_CLASSIC')\n",
    "# Create dimensions\n",
    "ariane.createDimension('ntot',ntot)\n",
    "# Create variables\n",
    "x = ariane.createVariable('init_x','f8',('ntot',))\n",
    "y = ariane.createVariable('init_y','f8',('ntot',))\n",
    "z = ariane.createVariable('init_z','f8',('ntot',))\n",
    "temp = ariane.createVariable('init_temp','f8',('ntot',))\n",
    "salt = ariane.createVariable('init_salt','f8',('ntot',))\n",
    "dens = ariane.createVariable('init_dens','f8',('ntot',))\n",
    "area = ariane.createVariable('init_area','f8',('ntot',))\n",
    "transp = ariane.createVariable('init_transp','f8',('ntot',))\n",
    "# Write to variables\n",
    "x[:] = init_x\n",
    "y[:] = init_y\n",
    "z[:] = init_z\n",
    "temp[:] = init_temp\n",
    "salt[:] = init_salt\n",
    "dens[:] = init_dens\n",
    "area[:] = init_area\n",
    "transp[:] = init_transp\n",
    "# Close netcdf\n",
    "ariane.close()"
   ]
  },
  {
   "cell_type": "code",
   "execution_count": 11,
   "metadata": {
    "collapsed": false
   },
   "outputs": [
    {
     "name": "stdout",
     "output_type": "stream",
     "text": [
      "[-- -- -- -- -- -- -- -- -- --]\n"
     ]
    }
   ],
   "source": [
    "ariane2 = Dataset(arianedir+experiment+'/ariane_initial.nc','r');\n",
    "print ariane2.variables['init_x'][0:10]\n",
    "ariane2.close()"
   ]
  },
  {
   "cell_type": "code",
   "execution_count": 30,
   "metadata": {
    "collapsed": false
   },
   "outputs": [
    {
     "name": "stdout",
     "output_type": "stream",
     "text": [
      "(0,)\n"
     ]
    }
   ],
   "source": [
    "print init_x.shape"
   ]
  },
  {
   "cell_type": "code",
   "execution_count": null,
   "metadata": {
    "collapsed": true
   },
   "outputs": [],
   "source": []
  }
 ],
 "metadata": {
  "anaconda-cloud": {},
  "kernelspec": {
   "display_name": "Python [conda root]",
   "language": "python",
   "name": "conda-root-py"
  },
  "language_info": {
   "codemirror_mode": {
    "name": "ipython",
    "version": 2
   },
   "file_extension": ".py",
   "mimetype": "text/x-python",
   "name": "python",
   "nbconvert_exporter": "python",
   "pygments_lexer": "ipython2",
   "version": "2.7.12"
  }
 },
 "nbformat": 4,
 "nbformat_minor": 0
}
