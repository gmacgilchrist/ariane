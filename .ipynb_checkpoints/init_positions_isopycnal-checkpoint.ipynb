{
 "cells": [
  {
   "cell_type": "code",
   "execution_count": 133,
   "metadata": {
    "collapsed": true
   },
   "outputs": [],
   "source": [
    "# Python script to initialise trajectories on a neutral density surface, for use with Ariane\n",
    "# GM 23/9/16: Presently, this script places one particle per grid cell, suitable for many applications. It will need to be adapted if I wish to initialise particles at higher resolution."
   ]
  },
  {
   "cell_type": "code",
   "execution_count": 1,
   "metadata": {
    "collapsed": false
   },
   "outputs": [],
   "source": [
    "import numpy as np\n",
    "import matplotlib\n",
    "%matplotlib inline\n",
    "import matplotlib.pyplot as plt\n",
    "from netCDF4 import Dataset\n",
    "import os"
   ]
  },
  {
   "cell_type": "code",
   "execution_count": 2,
   "metadata": {
    "collapsed": true
   },
   "outputs": [],
   "source": [
    "# TRAJECTORY INITIALISATION OPTIONS\n",
    "# Target density surface\n",
    "sigT = 27.8\n",
    "# Times of initialisation\n",
    "time = np.array([4180])"
   ]
  },
  {
   "cell_type": "code",
   "execution_count": 3,
   "metadata": {
    "collapsed": false
   },
   "outputs": [],
   "source": [
    "# ARIANE EXPERIMENT DIRECTORY\n",
    "arianedir = '/home/ocean2/graemem/ariane/experiments/orca025_global_5d/'\n",
    "experiment = 'quant_back_seedGLOBALn1_tX_sign10_MLrefz8delsig0.01'"
   ]
  },
  {
   "cell_type": "code",
   "execution_count": 4,
   "metadata": {
    "collapsed": true
   },
   "outputs": [],
   "source": [
    "# DATASET LOCATIONS\n",
    "# Specify the locations and filenames of the density and grid data\n",
    "rootdir = '/home/ocean2/graemem/ariane/'\n",
    "datadir = 'data_link/orca025_global_5d/'\n",
    "griddir = 'grids_ncmod/'\n",
    "gridfile = 'ORCA025.L75-GRD88_mesh_hgr.nc'\n",
    "\n",
    "# LOAD GRID DATA\n",
    "grid = Dataset(rootdir+griddir+gridfile,'r')\n",
    "deptht = grid.variables['gdept_0']\n",
    "e1t = grid.variables['e1t']\n",
    "e2t = grid.variables['e2t']"
   ]
  },
  {
   "cell_type": "code",
   "execution_count": 142,
   "metadata": {
    "collapsed": false
   },
   "outputs": [
    {
     "name": "stdout",
     "output_type": "stream",
     "text": [
      "ORCA025.L75-GJM189_4107_gridRn.nc\n"
     ]
    },
    {
     "ename": "KeyboardInterrupt",
     "evalue": "",
     "output_type": "error",
     "traceback": [
      "\u001b[0;31m---------------------------------------------------------------------------\u001b[0m",
      "\u001b[0;31mKeyboardInterrupt\u001b[0m                         Traceback (most recent call last)",
      "\u001b[0;32m<ipython-input-142-d363b86af761>\u001b[0m in \u001b[0;36m<module>\u001b[0;34m()\u001b[0m\n\u001b[1;32m     31\u001b[0m             \u001b[0;31m# Find where the column density is less than and greater than the target density\u001b[0m\u001b[0;34m\u001b[0m\u001b[0;34m\u001b[0m\u001b[0m\n\u001b[1;32m     32\u001b[0m             \u001b[0mlessarray\u001b[0m \u001b[0;34m=\u001b[0m \u001b[0mnp\u001b[0m\u001b[0;34m.\u001b[0m\u001b[0mwhere\u001b[0m\u001b[0;34m(\u001b[0m\u001b[0mvosigntr\u001b[0m\u001b[0;34m[\u001b[0m\u001b[0;36m0\u001b[0m\u001b[0;34m,\u001b[0m\u001b[0;34m:\u001b[0m\u001b[0;34m,\u001b[0m\u001b[0mj\u001b[0m\u001b[0;34m,\u001b[0m\u001b[0mi\u001b[0m\u001b[0;34m]\u001b[0m\u001b[0;34m-\u001b[0m\u001b[0msigT\u001b[0m \u001b[0;34m<\u001b[0m \u001b[0;36m0\u001b[0m\u001b[0;34m)\u001b[0m\u001b[0;34m[\u001b[0m\u001b[0;36m0\u001b[0m\u001b[0;34m]\u001b[0m\u001b[0;34m\u001b[0m\u001b[0m\n\u001b[0;32m---> 33\u001b[0;31m             \u001b[0mmorearray\u001b[0m \u001b[0;34m=\u001b[0m \u001b[0mnp\u001b[0m\u001b[0;34m.\u001b[0m\u001b[0mwhere\u001b[0m\u001b[0;34m(\u001b[0m\u001b[0mvosigntr\u001b[0m\u001b[0;34m[\u001b[0m\u001b[0;36m0\u001b[0m\u001b[0;34m,\u001b[0m\u001b[0;34m:\u001b[0m\u001b[0;34m,\u001b[0m\u001b[0mj\u001b[0m\u001b[0;34m,\u001b[0m\u001b[0mi\u001b[0m\u001b[0;34m]\u001b[0m\u001b[0;34m-\u001b[0m\u001b[0msigT\u001b[0m \u001b[0;34m>\u001b[0m \u001b[0;36m0\u001b[0m\u001b[0;34m)\u001b[0m\u001b[0;34m[\u001b[0m\u001b[0;36m0\u001b[0m\u001b[0;34m]\u001b[0m\u001b[0;34m\u001b[0m\u001b[0m\n\u001b[0m\u001b[1;32m     34\u001b[0m             \u001b[0;32mif\u001b[0m \u001b[0mmorearray\u001b[0m\u001b[0;34m.\u001b[0m\u001b[0msize\u001b[0m\u001b[0;34m==\u001b[0m\u001b[0;36m0\u001b[0m \u001b[0;32mor\u001b[0m \u001b[0mlessarray\u001b[0m\u001b[0;34m.\u001b[0m\u001b[0msize\u001b[0m\u001b[0;34m==\u001b[0m\u001b[0;36m0\u001b[0m\u001b[0;34m:\u001b[0m \u001b[0;31m# The surface does not exist\u001b[0m\u001b[0;34m\u001b[0m\u001b[0m\n\u001b[1;32m     35\u001b[0m                 \u001b[0mk\u001b[0m\u001b[0;34m[\u001b[0m\u001b[0mi\u001b[0m\u001b[0;34m,\u001b[0m\u001b[0mj\u001b[0m\u001b[0;34m]\u001b[0m\u001b[0;34m=\u001b[0m\u001b[0mnp\u001b[0m\u001b[0;34m.\u001b[0m\u001b[0mnan\u001b[0m\u001b[0;34m\u001b[0m\u001b[0m\n",
      "\u001b[0;32mnetCDF4/_netCDF4.pyx\u001b[0m in \u001b[0;36mnetCDF4._netCDF4.Variable.__getitem__ (netCDF4/_netCDF4.c:37923)\u001b[0;34m()\u001b[0m\n",
      "\u001b[0;32mnetCDF4/_netCDF4.pyx\u001b[0m in \u001b[0;36mnetCDF4._netCDF4.Variable._get (netCDF4/_netCDF4.c:48141)\u001b[0;34m()\u001b[0m\n",
      "\u001b[0;32mnetCDF4/_netCDF4.pyx\u001b[0m in \u001b[0;36mnetCDF4._netCDF4.Variable.dimensions.__get__ (netCDF4/_netCDF4.c:33142)\u001b[0;34m()\u001b[0m\n",
      "\u001b[0;32mnetCDF4/_netCDF4.pyx\u001b[0m in \u001b[0;36mnetCDF4._netCDF4.Variable._getdims (netCDF4/_netCDF4.c:32117)\u001b[0;34m()\u001b[0m\n",
      "\u001b[0;32m/home/oceansoft/anaconda2/lib/python2.7/encodings/utf_8.pyc\u001b[0m in \u001b[0;36mdecode\u001b[0;34m(input, errors)\u001b[0m\n\u001b[1;32m     13\u001b[0m \u001b[0mencode\u001b[0m \u001b[0;34m=\u001b[0m \u001b[0mcodecs\u001b[0m\u001b[0;34m.\u001b[0m\u001b[0mutf_8_encode\u001b[0m\u001b[0;34m\u001b[0m\u001b[0m\n\u001b[1;32m     14\u001b[0m \u001b[0;34m\u001b[0m\u001b[0m\n\u001b[0;32m---> 15\u001b[0;31m \u001b[0;32mdef\u001b[0m \u001b[0mdecode\u001b[0m\u001b[0;34m(\u001b[0m\u001b[0minput\u001b[0m\u001b[0;34m,\u001b[0m \u001b[0merrors\u001b[0m\u001b[0;34m=\u001b[0m\u001b[0;34m'strict'\u001b[0m\u001b[0;34m)\u001b[0m\u001b[0;34m:\u001b[0m\u001b[0;34m\u001b[0m\u001b[0m\n\u001b[0m\u001b[1;32m     16\u001b[0m     \u001b[0;32mreturn\u001b[0m \u001b[0mcodecs\u001b[0m\u001b[0;34m.\u001b[0m\u001b[0mutf_8_decode\u001b[0m\u001b[0;34m(\u001b[0m\u001b[0minput\u001b[0m\u001b[0;34m,\u001b[0m \u001b[0merrors\u001b[0m\u001b[0;34m,\u001b[0m \u001b[0mTrue\u001b[0m\u001b[0;34m)\u001b[0m\u001b[0;34m\u001b[0m\u001b[0m\n\u001b[1;32m     17\u001b[0m \u001b[0;34m\u001b[0m\u001b[0m\n",
      "\u001b[0;31mKeyboardInterrupt\u001b[0m: "
     ]
    }
   ],
   "source": [
    "ntot=0 # Keep track of number of initialised particles\n",
    "# INITIALISE TIME LOOP\n",
    "for t in time:\n",
    "    # TIME DEPENDENT DATA FILES\n",
    "    datafileR = 'ORCA025.L75-GJM189_'+str(t)+'_gridRn.nc' # Density data\n",
    "    datafileT = 'ORCA025.L75-GJM189_'+str(t)+'_gridT.nc' # Temperature and salinity data\n",
    "    print datafileR\n",
    "\n",
    "    # LOAD DENSITY\n",
    "    dataR=Dataset(rootdir+datadir+datafileR,'r')\n",
    "    vosigntr=dataR.variables['vosigntr']\n",
    "    # Extract dimensions\n",
    "    (nz,ny,nx)=vosigntr.shape[1:4]\n",
    "\n",
    "    # LOAD TEMPERATURE AND SALINITY\n",
    "    dataT = Dataset(rootdir+datadir+datafileT,'r')\n",
    "    votemper=dataT.variables['votemper']\n",
    "    vosaline=dataT.variables['vosaline']\n",
    "\n",
    "    # FIND THE VERTICAL INDEX OF A TARGET DENSITY SURFACE AT EACH POINT IN SPACE\n",
    "    # In addition, vertically interpolate tracer values (temperature, salinity) onto this surface (required input for Ariane)\n",
    "    k = np.empty((nx,ny,))\n",
    "    k.fill(np.nan)\n",
    "    t = np.empty((nx,ny,))\n",
    "    t.fill(np.nan)\n",
    "    s = np.empty((nx,ny,))\n",
    "    s.fill(np.nan)\n",
    "    for i in range(0,nx):\n",
    "        #print(i)\n",
    "        for j in range(0,ny):\n",
    "            # Find where the column density is less than and greater than the target density\n",
    "            lessarray = np.where(vosigntr[0,:,j,i]-sigT < 0)[0]\n",
    "            morearray = np.where(vosigntr[0,:,j,i]-sigT > 0)[0]\n",
    "            if morearray.size==0 or lessarray.size==0: # The surface does not exist\n",
    "                k[i,j]=np.nan\n",
    "            else:\n",
    "                less = lessarray[-1] # Last depth index where the density is less than the target density\n",
    "                more = morearray[0] # First depth index where the density is greater than the target density\n",
    "                # 'less' index should be smaller than 'more' index (for a stable water column). If this is not the case, skip past this grid cell.\n",
    "                if less<more:\n",
    "                    # Determine how far target surface is from the 'less' surface\n",
    "                    diffless = abs(vosigntr[0,less,j,i]-sigT)\n",
    "                    diffmore = abs(vosigntr[0,more,j,i]-sigT)\n",
    "                    ratio = diffless/np.sum([diffless, diffmore]) # Distance from 'less' surface as a ratio of total density difference\n",
    "                    # Specify vertical index for initial particle position\n",
    "                    k[i,j] = less+ratio+0.5 # Addition of 0.5 adjusts for Ariane indexing conventions (indices are relative to velocity points)\n",
    "                    # Interpolate tracer values\n",
    "                    t[i,j] = votemper[0,less,j,i]+ratio*np.absolute(votemper[0,more,j,i]-votemper[0,less,j,i])\n",
    "                    s[i,j] = vosaline[0,less,j,i]+ratio*np.absolute(vosaline[0,more,j,i]-vosaline[0,less,j,i])\n",
    "                else:\n",
    "                    k[i,j]=np.nan\n",
    "\n",
    "    # PUT INDICES INTO ARIANE FORMAT\n",
    "    # Specify arrays\n",
    "    init_x = np.array([])\n",
    "    init_y = np.array([])\n",
    "    init_z = np.array([])\n",
    "    init_temp = np.array([])\n",
    "    init_salt = np.array([])\n",
    "    init_dens = np.array([])\n",
    "    init_area= np.array([])\n",
    "    init_transp = np.array([])\n",
    "\n",
    "    for i in range(500,510):\n",
    "        for j in range(500,510):\n",
    "            if np.isfinite(k[i,j]):\n",
    "                # For positioning: -0.5 due to Ariane convention (index relative to velocity points), +1 due to python indexing conventions\n",
    "                init_x = np.append(init_x,i-0.5+1)\n",
    "                init_y = np.append(init_y,j-0.5+1)\n",
    "                init_z = np.append(init_z,k[i,j])\n",
    "                init_temp = np.append(init_temp,t[i,j])\n",
    "                init_salt = np.append(init_salt,s[i,j])\n",
    "                init_dens = np.append(init_dens,sigT)\n",
    "                init_area = np.append(init_area,e1t[0,j,i]*e2t[0,j,i])\n",
    "                init_transp = np.append(init_transp,np.nan) # GM 23/9/16: Presently, do not specify a transport. Fudge to satisfy Ariane.\n",
    "\n",
    "                # STEP FORWARD NTOT\n",
    "                ntot = ntot+1\n",
    "\n"
   ]
  },
  {
   "cell_type": "code",
   "execution_count": 132,
   "metadata": {
    "collapsed": false
   },
   "outputs": [],
   "source": [
    "# SAVE AS A NETCDF FILE\n",
    "ariane = Dataset(arianedir+experiment+'/ariane_initial.nc','w',format='NETCDF4_CLASSIC')\n",
    "# Create dimensions\n",
    "ariane.createDimension('ntot',ntot)\n",
    "# Create variables\n",
    "x = ariane.createVariable('init_x','f8',('ntot',))\n",
    "y = ariane.createVariable('init_y','f8',('ntot',))\n",
    "z = ariane.createVariable('init_z','f8',('ntot',))\n",
    "temp = ariane.createVariable('init_temp','f8',('ntot',))\n",
    "salt = ariane.createVariable('init_salt','f8',('ntot',))\n",
    "dens = ariane.createVariable('init_dens','f8',('ntot',))\n",
    "area = ariane.createVariable('init_area','f8',('ntot',))\n",
    "transp = ariane.createVariable('init_transp','f8',('ntot',))\n",
    "# Write to variables\n",
    "x = init_x\n",
    "y = init_y\n",
    "z = init_z\n",
    "temp = init_temp\n",
    "salt = init_salt\n",
    "dens = init_dens\n",
    "area = init_area\n",
    "transp = init_transp\n",
    "# Close netcdf\n",
    "ariane.close()"
   ]
  },
  {
   "cell_type": "code",
   "execution_count": 30,
   "metadata": {
    "collapsed": false
   },
   "outputs": [
    {
     "data": {
      "text/plain": [
       "<matplotlib.colorbar.Colorbar at 0x7f713858ead0>"
      ]
     },
     "execution_count": 30,
     "metadata": {},
     "output_type": "execute_result"
    },
    {
     "data": {
      "image/png": "[encoded data removed]",
      "text/plain": [
       "<matplotlib.figure.Figure at 0x7f7138f07b50>"
      ]
     },
     "metadata": {},
     "output_type": "display_data"
    }
   ],
   "source": [
    "plt.pcolormesh(ratio)\n",
    "plt.colorbar()"
   ]
  }
 ],
 "metadata": {
  "anaconda-cloud": {},
  "kernelspec": {
   "display_name": "Python [conda root]",
   "language": "python",
   "name": "conda-root-py"
  },
  "language_info": {
   "codemirror_mode": {
    "name": "ipython",
    "version": 2
   },
   "file_extension": ".py",
   "mimetype": "text/x-python",
   "name": "python",
   "nbconvert_exporter": "python",
   "pygments_lexer": "ipython2",
   "version": "2.7.12"
  }
 },
 "nbformat": 4,
 "nbformat_minor": 0
}
