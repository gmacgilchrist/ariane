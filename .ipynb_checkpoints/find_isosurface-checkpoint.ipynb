{
 "cells": [
  {
   "cell_type": "code",
   "execution_count": null,
   "metadata": {
    "collapsed": true
   },
   "outputs": [],
   "source": [
    "def find_isosurface(array, target_value, z_values, interp_order=6, power_parameter=0.5):\n",
    "    if interp_order < 1: interp_order = 1\n",
    "    from numpy import argsort, take, clip, zeros\n",
    "    dist = (array - target_value)**2 # Determine squared distance of each point from target value\n",
    "    arg = argsort(dist,axis=2) # Along 3rd dimension, determine the order of distances from the target value\n",
    "    dist.sort(axis=2) # Sort the squared distance\n",
    "    w_total = 0.\n",
    "    z = zeros(array.shape[:2], dtype=float)\n",
    "    for i in xrange(int(interp_order)): # Iterate through i closest points\n",
    "        zi = take(zs, arg[:,:,i]) # Get z value at this point\n",
    "        valuei = dist[:,:,i] # Get distance from target value at this point\n",
    "        wi = 1/valuei # Reciprocal of distance\n",
    "        clip(wi, 0, 1.e6, out=wi) # Cap reciprocal\n",
    "        w_total += wi**power_parameter # Sum up squared distances\n",
    "        z += zi*wi**power_parameter # Sum up the z values, weighted by the squared distances\n",
    "    z /= w_total # Target z is weighted average of closest z's\n",
    "    return z"
   ]
  }
 ],
 "metadata": {
  "anaconda-cloud": {},
  "kernelspec": {
   "display_name": "Python [default]",
   "language": "python",
   "name": "python2"
  },
  "language_info": {
   "codemirror_mode": {
    "name": "ipython",
    "version": 2
   },
   "file_extension": ".py",
   "mimetype": "text/x-python",
   "name": "python",
   "nbconvert_exporter": "python",
   "pygments_lexer": "ipython2",
   "version": "2.7.12"
  }
 },
 "nbformat": 4,
 "nbformat_minor": 1
}
