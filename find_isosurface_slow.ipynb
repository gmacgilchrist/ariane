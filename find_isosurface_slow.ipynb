{
 "cells": [
  {
   "cell_type": "code",
   "execution_count": 4,
   "metadata": {
    "collapsed": true
   },
   "outputs": [],
   "source": [
    "import numpy as np"
   ]
  },
  {
   "cell_type": "code",
   "execution_count": 3,
   "metadata": {
    "collapsed": true
   },
   "outputs": [],
   "source": [
    "# FUNCTION TO FIND ISOSURFACE\n",
    "# PROVIDED WITH 3D FIELD AND TARGET SURFACE VALUE\n",
    "# Can work with fields that are monotonically increasing or decreasing, specified in 'direction'\n",
    "# The 'search' for the surface is done along the first dimesnion of the field array\n",
    "def find_isosurface(field,target,direction):\n",
    "    # Get the dimensions of the 3D field\n",
    "    (nz,ny,nx)=field.shape\n",
    "    # Pre-allocate output arrays based on these dimensions\n",
    "    above = np.empty((nx,ny,)) # The index of the point below the surface\n",
    "    above.fill(np.nan)\n",
    "    below = np.empty((nx,ny,)) # The index of the point above the surface\n",
    "    below.fill(np.nan)\n",
    "    ratio = np.empty((nx,ny,)) # The ratio of the difference between the target and the field value at 'above' and the total difference between the 'above' and 'below' field values\n",
    "    ratio.fill(np.nan)\n",
    "    \n",
    "    for i in range(0,nx):\n",
    "        for j in range(0,ny):\n",
    "            # For each column, find where the field is less than and more than the target surface\n",
    "            lessarray = np.where(field[:,j,i] - target < 0)[0]\n",
    "            morearray = np.where(field[:,j,i] - target > 0)[0]\n",
    "            if morearray.size==0 or lessarray.size==0: # The surface does not exist\n",
    "                above[i,j]=np.nan\n",
    "                below[i,j]=np.nan\n",
    "                ratio[i,j]=np.nan\n",
    "            else:\n",
    "                if direction=='increasing':\n",
    "                    above[i,j] = lessarray[-1] # If the variable increases with depth, take the last field value that is less than target\n",
    "                    below[i,j] = morearray[0] # ... and the first value that is greater than the target\n",
    "                if direction=='decreasing':\n",
    "                    below[i,j] = lessarray[0] # If the variable decreases with depth, take the first field value that is less than target\n",
    "                    above[i,j] = morearray[-1] # ... and the last value that is greater than the target\n",
    "                \n",
    "                # 'above' index should be smaller than 'below' index (if monotonic). If this is not the case, skip past this grid cell.\n",
    "                if above[i,j]<below[i,j]:\n",
    "                    # Determine how far target surface is from the 'less' surface\n",
    "                    diffabove = abs(field[above[i,j],j,i]-sigT)\n",
    "                    diffbelow = abs(field[below[i,j],j,i]-sigT)\n",
    "                    ratio[i,j] = diffabove/np.sum([diffabove, diffbelow]) # Distance from 'above' surface as a ratio of total field difference\n",
    "                else:\n",
    "                    above[i,j]=np.nan\n",
    "                    below[i,j]=np.nan\n",
    "                    ratio[i,j]=np.nan\n",
    "                    \n",
    "    return above, below, ratio"
   ]
  }
 ],
 "metadata": {
  "anaconda-cloud": {},
  "kernelspec": {
   "display_name": "Python [default]",
   "language": "python",
   "name": "python2"
  },
  "language_info": {
   "codemirror_mode": {
    "name": "ipython",
    "version": 2
   },
   "file_extension": ".py",
   "mimetype": "text/x-python",
   "name": "python",
   "nbconvert_exporter": "python",
   "pygments_lexer": "ipython2",
   "version": "2.7.12"
  }
 },
 "nbformat": 4,
 "nbformat_minor": 1
}
